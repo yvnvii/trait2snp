{
 "cells": [
  {
   "cell_type": "code",
   "execution_count": 3,
   "id": "d49c34b4-5b57-4a35-8be3-08a6c689fa9b",
   "metadata": {},
   "outputs": [],
   "source": [
    "import sympy as sp\n",
    "import pandas as pd\n",
    "import os\n",
    "import matplotlib.pyplot as plt"
   ]
  },
  {
   "cell_type": "markdown",
   "id": "e7eccec5-d969-49ff-a5a0-5c28c888b013",
   "metadata": {},
   "source": [
    "**P(S|T) = Chance you have the SNP if you have the trait**\n",
    "\n",
    "**P(T|S) = Chance you have the trait if you have the SNP**\n",
    "\n",
    "**P(S) = Frequency of SNP in the population**\n",
    "\n",
    "**P(T) = Frequency of the trait in the population**\n"
   ]
  },
  {
   "cell_type": "markdown",
   "id": "bbdb84b6-d866-45b6-a565-ecaba57e4f60",
   "metadata": {},
   "source": [
    "***P(S|T) is what we are looking for***\n",
    "\n",
    "P(S|T) = What is the probability someone has a certain SNP if we know they have the trait?"
   ]
  },
  {
   "cell_type": "markdown",
   "id": "036c0446-b938-42d0-b241-111c3b96f189",
   "metadata": {},
   "source": [
    "**Bayes Theorem**\n",
    "\n",
    "$P(S|T) = \\frac{P(T|S)P(S)}{P(T)}$"
   ]
  },
  {
   "cell_type": "markdown",
   "id": "5116e10c-5f19-46f9-88d1-32321d903c87",
   "metadata": {},
   "source": [
    "**What We Have**\n",
    "\n",
    "OR = Odds Ratio: how strongly SNP is linked to trait  \n",
    "P(S) = Risk Allele Frequency (RAF)  \n",
    "P(T) = How common the trait is in the population  "
   ]
  },
  {
   "cell_type": "code",
   "execution_count": 4,
   "id": "10ab2ccb-3e14-4eb0-8c73-f0733853d5ca",
   "metadata": {},
   "outputs": [],
   "source": [
    "w, OR, PS, PT = sp.symbols('w OR PS PT', real=True, positive=True)"
   ]
  },
  {
   "cell_type": "markdown",
   "id": "9c56f252-b5f4-4003-a9d3-cd34ac52ba98",
   "metadata": {},
   "source": [
    "**Step 1**\n",
    "Estimate P(T|S) from OR"
   ]
  },
  {
   "cell_type": "markdown",
   "id": "35053a3f-4458-4661-af2f-a8707a87fb3e",
   "metadata": {},
   "source": [
    "OR = (Odds of trait with SNP)/(Odds of trait without SNP)\n",
    "# = $\\frac{\\frac{P(T|S)}{P(\\overline{T}|S)}}{\\frac{P(T|\\overline{S})}{P(\\overline{T}|\\overline{S})}}$ #"
   ]
  },
  {
   "cell_type": "markdown",
   "id": "c5a785c9-5a20-4a5b-950c-5288eda583f1",
   "metadata": {},
   "source": [
    "Using conditional probability formula:\n",
    "\n",
    "$P(T|S) = \\frac{P({T}\\cap{S})}{P(S)}$  \n",
    "$P(\\overline{T}|S) = \\frac{P(\\overline{T}\\cap{S})}{P(S)}$  \n",
    "$P(T|\\overline{S}) = \\frac{P({T}\\cap\\overline{S})}{P(\\overline{S})}$  \n",
    "$P(\\overline{T}|\\overline{S}) = \\frac{P(\\overline{T}\\cap\\overline{S})}{P(\\overline{S})}$  "
   ]
  },
  {
   "cell_type": "markdown",
   "id": "48477bc0-6553-4d7a-9249-84867c5531cb",
   "metadata": {},
   "source": [
    "Plugging them into OR gives:\n",
    "\n",
    "$\\frac{P({T}\\cap{S})P(\\overline{T}\\cap\\overline{S})}{P(\\overline{T}\\cap{S})P(T\\cap\\overline{S})}$"
   ]
  },
  {
   "cell_type": "markdown",
   "id": "c9fe6655-6211-4036-9101-d3eb47261507",
   "metadata": {},
   "source": [
    "Let w,x,y,z be following:\n",
    "\n",
    "$w = P({T}\\cap{S})$   \n",
    "$x = P(\\overline{T}\\cap{S})$  \n",
    "$y = P(T\\cap\\overline{S})$  \n",
    "$z = P(\\overline{T}\\cap\\overline{S})$  "
   ]
  },
  {
   "cell_type": "markdown",
   "id": "84ad78b0-c838-4397-81dd-71a6e6a882a2",
   "metadata": {},
   "source": [
    "Then, $OR = \\frac{wz}{xy}$"
   ]
  },
  {
   "cell_type": "markdown",
   "id": "da130ca9-9b22-447f-ae2e-0c367c1646b7",
   "metadata": {},
   "source": [
    "Also,   \n",
    "w + x = P(S)  \n",
    "y + z = 1 - P(S)  \n",
    "w + y = P(T)  \n",
    "x + z = 1 - P(T)  "
   ]
  },
  {
   "cell_type": "markdown",
   "id": "a9452775-9116-4f17-a7ca-4e84fde8f72e",
   "metadata": {},
   "source": [
    "Thus,  \n",
    "x = P(S) - w  \n",
    "y = P(T) - w  \n",
    "z = 1 - P(S) - P(T) + w"
   ]
  },
  {
   "cell_type": "markdown",
   "id": "b8bb2947-5a47-47a9-aebf-bdc373a6e549",
   "metadata": {},
   "source": [
    "Plugging them into OR gives:\n",
    "$OR = \\frac{wz}{xy}$\n",
    "   $= \\frac{w(1-P(S)-P(T)+w)}{(P(S)-w)(P(T)-w)}$"
   ]
  },
  {
   "cell_type": "markdown",
   "id": "39a20e9a-76e9-49bf-bf88-17efc6736df2",
   "metadata": {},
   "source": [
    "Solve it for w using the formula."
   ]
  },
  {
   "cell_type": "code",
   "execution_count": 5,
   "id": "2052407e-2521-49b3-8156-2d66b373989a",
   "metadata": {},
   "outputs": [],
   "source": [
    "def get_p_trait_cap_snp(OR_val, PS_val, PT_val):\n",
    "    # define symbols\n",
    "    w = sp.Symbol('w', real = True)\n",
    "    PS = sp.Symbol('PS', real = True)\n",
    "    PT = sp.Symbol('PT', real = True)\n",
    "    OR = sp.Symbol('OR', real = True)\n",
    "\n",
    "    # define equation\n",
    "    expr = sp.Eq(OR, (w * (1 - PS - PT + w)) / ((PS - w) * (PT - w)))\n",
    "\n",
    "    # solve for w\n",
    "    solutions = sp.solve(expr, w)\n",
    "\n",
    "    # substitute numbers\n",
    "    numeric_solutions = [sol.evalf(subs={OR: OR_val, PS: PS_val, PT: PT_val}) for sol in solutions]\n",
    "\n",
    "    valid_sol = []\n",
    "    # filter solutions\n",
    "    for sol in numeric_solutions:\n",
    "        if sol.is_real and 0<= sol <= min(PS_val, PT_val):\n",
    "            valid_sol.append(round(sol,6))\n",
    "    return valid_sol"
   ]
  },
  {
   "cell_type": "markdown",
   "id": "dac4dbad-49e6-444d-8181-c7b174c11075",
   "metadata": {},
   "source": [
    "Now we have $P(T \\cap S)$."
   ]
  },
  {
   "cell_type": "markdown",
   "id": "b27c6518-0abc-474f-9f08-3679efbe9226",
   "metadata": {},
   "source": [
    "Then we calculate x,y,z using w, P(S), and P(T)"
   ]
  },
  {
   "cell_type": "markdown",
   "id": "c6ad5bbe-7566-429a-80a1-a7e77fb1902d",
   "metadata": {},
   "source": [
    "x ( = $P(\\overline{T}\\cap S)$)"
   ]
  },
  {
   "cell_type": "code",
   "execution_count": 6,
   "id": "663f169d-bb82-4e67-a83b-fa831351ac72",
   "metadata": {},
   "outputs": [],
   "source": [
    "def get_p_non_trait_cap_snp(p_trait_cap_snp, PS_val):\n",
    "    return PS_val - p_trait_cap_snp"
   ]
  },
  {
   "cell_type": "markdown",
   "id": "88662dc9-5746-497d-9d35-0eed9568876c",
   "metadata": {},
   "source": [
    "y ( = $P(T\\cap\\overline{S})$)"
   ]
  },
  {
   "cell_type": "code",
   "execution_count": 7,
   "id": "9e6b0464-36be-44c3-820f-8095e0f57daf",
   "metadata": {},
   "outputs": [],
   "source": [
    "def get_p_trait_cap_non_snp(p_trait_cap_snp, PT_val):\n",
    "    return PT_val - p_trait_cap_snp"
   ]
  },
  {
   "cell_type": "markdown",
   "id": "a3f33b43-a2aa-4437-ac29-d739af5f9a2a",
   "metadata": {},
   "source": [
    "z ( = $P(\\overline{T}\\cap\\overline{S})$)"
   ]
  },
  {
   "cell_type": "code",
   "execution_count": 8,
   "id": "c8174dab-4687-4f53-a65b-4589749c5bbc",
   "metadata": {},
   "outputs": [],
   "source": [
    "def get_p_non_trait_cap_non_snp(p_trait_cap_snp, PS_val, PT_val):\n",
    "    return 1 - PS_val - PT_val + p_trait_cap_snp"
   ]
  },
  {
   "cell_type": "markdown",
   "id": "08c152c9-d1f2-4aac-89ba-49fb569dc78c",
   "metadata": {},
   "source": [
    "$P(S|T) = \\frac{P(T\\cap S)}{P(T)}$"
   ]
  },
  {
   "cell_type": "code",
   "execution_count": 9,
   "id": "79b17c9f-9f4e-44dc-a7d0-24c4b592fd7c",
   "metadata": {},
   "outputs": [],
   "source": [
    "def get_p_snp_given_trait(p_trait_cap_snp, PT):\n",
    "    if PT == 0:\n",
    "        return None  # Avoid division by zero\n",
    "    result = p_trait_cap_snp / PT\n",
    "    return round(result, 6)\n"
   ]
  },
  {
   "cell_type": "markdown",
   "id": "eab983ca-9cda-43d4-bbad-3e3ee1135a02",
   "metadata": {},
   "source": [
    "$P(S|T)$ with confidence interval"
   ]
  },
  {
   "cell_type": "code",
   "execution_count": 10,
   "id": "7f6cce42-b22c-4d6d-9659-c9768105c658",
   "metadata": {},
   "outputs": [],
   "source": [
    "def p_snp_given_trait_from_OR_with_CI(OR_low, OR_mid, OR_high, PS_val, PT_val):\n",
    "    result = {}\n",
    "    for label, OR_val in zip([\"lower\", \"point\", \"upper\"], [OR_low, OR_mid, OR_high]):\n",
    "        p_trait_cap_snp = get_p_trait_cap_snp(OR_val, PS_val, PT_val)\n",
    "        if p_trait_cap_snp:\n",
    "            p_snp_given_trait = get_p_snp_given_trait(p_trait_cap_snp[0], PT_val)\n",
    "            result[label] = round(p_snp_given_trait, 6)\n",
    "        else:\n",
    "            result[label] = None\n",
    "    return result"
   ]
  },
  {
   "cell_type": "markdown",
   "id": "eae585cb-de99-4652-98db-c34bdac3a91a",
   "metadata": {},
   "source": [
    "\\begin{align}\n",
    "    pRR &= \\frac{P(S \\mid T)}{P(S \\mid\\overline{T})} \\\\\n",
    "    &= \\frac{w}{P(T)}/\\frac{P(S) - w}{1 - P(T)} \\\\\n",
    "    &= \\frac{w[1-P(T)]}{P(T)[P(S)-w]}\n",
    "\\end{align}"
   ]
  },
  {
   "cell_type": "code",
   "execution_count": 17,
   "id": "8eb060e2-34cc-4e89-94b0-e6062cde2a77",
   "metadata": {},
   "outputs": [],
   "source": [
    "def get_pRR(p_trait_cap_snp, PS_val, PT_val):\n",
    "    numerator = float(p_trait_cap_snp) * (1 - PT_val)\n",
    "    denominator = PT_val * (PS_val - p_trait_cap_snp)\n",
    "    return numerator / denominator"
   ]
  },
  {
   "cell_type": "markdown",
   "id": "d1b0f200-5522-477f-8e0d-b0d8abee8db1",
   "metadata": {},
   "source": [
    "Get pRR with confidence interval"
   ]
  },
  {
   "cell_type": "code",
   "execution_count": 18,
   "id": "4fa996e8-f4e1-4a90-a3b0-bae494cd4501",
   "metadata": {},
   "outputs": [],
   "source": [
    "def get_pRR_from_OR_with_CI(OR_low, OR_mid, OR_high, PS_val, PT_val):\n",
    "    result = {}\n",
    "    for label, OR_val in zip([\"lower\", \"point\", \"upper\"], [OR_low, OR_mid, OR_high]):\n",
    "        p_trait_cap_snp = get_p_trait_cap_snp(OR_val, PS_val, PT_val)\n",
    "        if p_trait_cap_snp:\n",
    "            prr = get_pRR(p_trait_cap_snp[0], PS_val, PT_val)\n",
    "            result[label] = round(prr, 6)\n",
    "        else:\n",
    "            result[label] = None\n",
    "    return result\n",
    "\n",
    "\n"
   ]
  },
  {
   "cell_type": "markdown",
   "id": "062c382d-161d-404e-91a1-3b614893cdf1",
   "metadata": {},
   "source": [
    "Example:\n",
    "\n",
    "APOE e4/e4 genotype  \n",
    "trait: Alzheimer's disease \n",
    "\n",
    "OR: 13.52 CI[10.64 - 17.18]  \n",
    "P(S): 0.024  \n",
    "P(T): 0.001699729640318956\n",
    "\n",
    "\n",
    "\n"
   ]
  },
  {
   "cell_type": "code",
   "execution_count": 19,
   "id": "a39eccdf-5424-4c61-a7ac-8d88560ba69a",
   "metadata": {},
   "outputs": [],
   "source": [
    "OR_low = 10.64\n",
    "OR_mid = 13.52\n",
    "OR_high = 17.18\n",
    "PS_val = 0.024\n",
    "PT_val = 0.001699729640318956\n",
    "\n",
    "pRRs = get_pRR_from_OR_with_CI(OR_low, OR_mid, OR_high, PS_val, PT_val)"
   ]
  },
  {
   "cell_type": "code",
   "execution_count": 20,
   "id": "dbc5c089-9d9e-482a-9eb0-d41e97837626",
   "metadata": {},
   "outputs": [
    {
     "data": {
      "text/plain": [
       "{'lower': 8.666397, 'point': 10.436501, 'upper': 12.446754}"
      ]
     },
     "execution_count": 20,
     "metadata": {},
     "output_type": "execute_result"
    }
   ],
   "source": [
    "pRRs"
   ]
  },
  {
   "cell_type": "code",
   "execution_count": null,
   "id": "577ac08f-580f-4e1a-a986-d18fef6bfeba",
   "metadata": {},
   "outputs": [],
   "source": []
  }
 ],
 "metadata": {
  "kernelspec": {
   "display_name": "Python 3 (ipykernel)",
   "language": "python",
   "name": "python3"
  },
  "language_info": {
   "codemirror_mode": {
    "name": "ipython",
    "version": 3
   },
   "file_extension": ".py",
   "mimetype": "text/x-python",
   "name": "python",
   "nbconvert_exporter": "python",
   "pygments_lexer": "ipython3",
   "version": "3.12.2"
  }
 },
 "nbformat": 4,
 "nbformat_minor": 5
}
